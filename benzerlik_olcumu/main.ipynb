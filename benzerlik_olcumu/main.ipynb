{
 "cells": [
  {
   "cell_type": "markdown",
   "metadata": {},
   "source": [
    "# Giriş işlemleri"
   ]
  },
  {
   "cell_type": "code",
   "execution_count": 1,
   "metadata": {},
   "outputs": [
    {
     "name": "stdout",
     "output_type": "stream",
     "text": [
      "c:\\Users\\kayra\\OneDrive\\Masaüstü\\gsm8k-tr-semantik-analiz\\benzerlik_olcumu\n"
     ]
    }
   ],
   "source": [
    "import os\n",
    "is_colab = False # eğer colab kullanıyorsanız True yapın\n",
    "if is_colab:\n",
    "    from google.colab import drive\n",
    "    drive.mount('/content/drive')\n",
    "root_path = os.getcwd()  # dosyanın bulunduğu klasör\n",
    "print(root_path)"
   ]
  },
  {
   "cell_type": "markdown",
   "metadata": {},
   "source": [
    "## Gerekli kütüphaneleri yükle"
   ]
  },
  {
   "cell_type": "code",
   "execution_count": 2,
   "metadata": {},
   "outputs": [
    {
     "name": "stdout",
     "output_type": "stream",
     "text": [
      "Gereksinimler yükleniyor...\n",
      "Gereksinimler başarıyla yüklendi.\n"
     ]
    }
   ],
   "source": [
    "import subprocess\n",
    "\n",
    "# gereksinimler dosyasının yolu\n",
    "requirements_path = os.path.join(root_path, \"gereksinimler.txt\")\n",
    "\n",
    "# gereksinimler yükleniyor\n",
    "try:\n",
    "    print(\"Gereksinimler yükleniyor...\")\n",
    "    subprocess.run([\"pip\", \"install\", \"-r\", requirements_path], check=True)\n",
    "    print(\"Gereksinimler başarıyla yüklendi.\")\n",
    "except subprocess.CalledProcessError:\n",
    "    print(\"Gereksinimler yüklenirken hata oluştu.\")\n",
    "except FileNotFoundError:\n",
    "    print(f\"Dosya bulunamadı: {requirements_path}\")"
   ]
  },
  {
   "cell_type": "markdown",
   "metadata": {},
   "source": [
    "## Dosya dizinini sistem yoluna ekle"
   ]
  },
  {
   "cell_type": "code",
   "execution_count": 3,
   "metadata": {},
   "outputs": [
    {
     "name": "stdout",
     "output_type": "stream",
     "text": [
      "'c:\\Users\\kayra\\OneDrive\\Masaüstü\\gsm8k-tr-semantik-analiz\\benzerlik_olcumu' kütüphane arama yoluna eklendi.\n"
     ]
    }
   ],
   "source": [
    "import sys\n",
    "\n",
    "sys.path.append(root_path)\n",
    "print(f\"'{root_path}' kütüphane arama yoluna eklendi.\")"
   ]
  },
  {
   "cell_type": "markdown",
   "metadata": {},
   "source": [
    "## Yerel kod dosyalarını içe aktar"
   ]
  },
  {
   "cell_type": "code",
   "execution_count": null,
   "metadata": {},
   "outputs": [
    {
     "name": "stderr",
     "output_type": "stream",
     "text": [
      "C:\\Users\\kayra\\AppData\\Local\\Packages\\PythonSoftwareFoundation.Python.3.12_qbz5n2kfra8p0\\LocalCache\\local-packages\\Python312\\site-packages\\tqdm\\auto.py:21: TqdmWarning: IProgress not found. Please update jupyter and ipywidgets. See https://ipywidgets.readthedocs.io/en/stable/user_install.html\n",
      "  from .autonotebook import tqdm as notebook_tqdm\n"
     ]
    }
   ],
   "source": [
    "from dosya_islemleri import (save_smilarity_json, load_model, load_dataset, save_top1_top5_results_json,\n",
    "                            get_all_top1_top5_results, read_embedding_from_file)\n",
    "from benzerlik_islemleri import generate_similarity_json\n",
    "from basari_hesapla import evaluate_similarity_results_top1_top5\n",
    "from gorsellestir import visualize_top1_top5_scores, save_tsne_png\n",
    "from gomme_islemleri import calculate_and_save_raw_embeddings_from_dataset, tsne_sonuc_olustur"
   ]
  },
  {
   "cell_type": "markdown",
   "metadata": {},
   "source": [
    "## Cihaz tipini al"
   ]
  },
  {
   "cell_type": "code",
   "execution_count": 5,
   "metadata": {},
   "outputs": [
    {
     "name": "stdout",
     "output_type": "stream",
     "text": [
      "Kullanılan cihaz tipi: cpu\n"
     ]
    }
   ],
   "source": [
    "import torch\n",
    "# cihaz tipini al\n",
    "device = \"cuda\" if torch.cuda.is_available() else \"cpu\"\n",
    "print(f\"Kullanılan cihaz tipi: {device}\")"
   ]
  },
  {
   "cell_type": "markdown",
   "metadata": {},
   "source": [
    "## Modelleri tanımla"
   ]
  },
  {
   "cell_type": "code",
   "execution_count": 6,
   "metadata": {},
   "outputs": [],
   "source": [
    "model_names = [\n",
    "    \"intfloat/multilingual-e5-base\",                                # 278M  - 81\n",
    "    \"ibm-granite/granite-embedding-107m-multilingual\",              # 107M  - 48\n",
    "    \"intfloat/multilingual-e5-small\",                               # 118M  - 36\n",
    "    \"sentence-transformers/paraphrase-multilingual-MiniLM-L12-v2\",  # 118M  - 62\n",
    "    \"shibing624/text2vec-base-multilingual\",                        # 118M  - 77 \n",
    "    \"ytu-ce-cosmos/turkish-colbert\"\n",
    "    ]"
   ]
  },
  {
   "cell_type": "code",
   "execution_count": 7,
   "metadata": {},
   "outputs": [
    {
     "name": "stdout",
     "output_type": "stream",
     "text": [
      "Veri kümesi yükleniyor: c:\\Users\\kayra\\OneDrive\\Masaüstü\\gsm8k-tr-semantik-analiz\\benzerlik_olcumu\\..\\gsm8k_tr_1000_soru_cevap.csv\n"
     ]
    }
   ],
   "source": [
    "# veri kümesi yükleniyor\n",
    "df = load_dataset()"
   ]
  },
  {
   "cell_type": "markdown",
   "metadata": {},
   "source": [
    "# Gömme (embedding) hesaplama işleri"
   ]
  },
  {
   "cell_type": "code",
   "execution_count": 8,
   "metadata": {},
   "outputs": [],
   "source": [
    "def get_save_prefix(model_name):\n",
    "    return model_name.replace(\"/\", \"_\").replace(\"-\", \"_\")"
   ]
  },
  {
   "cell_type": "code",
   "execution_count": 9,
   "metadata": {},
   "outputs": [
    {
     "name": "stdout",
     "output_type": "stream",
     "text": [
      "Model yükleniyor: intfloat/multilingual-e5-base\n",
      "Model yüklendi. intfloat/multilingual-e5-base\n",
      "Hali hazırda hesaplanmış gömme vektörleri sayısı: 10, bu kayıtlar atlanıyor.\n",
      "\n",
      "\n",
      "Embeddingler hesaplandı ve kaydedildi: intfloat/multilingual-e5-base (1/6)\n",
      "Model yükleniyor: ibm-granite/granite-embedding-107m-multilingual\n",
      "Model yüklendi. ibm-granite/granite-embedding-107m-multilingual\n",
      "Hali hazırda hesaplanmış gömme vektörleri sayısı: 10, bu kayıtlar atlanıyor.\n",
      "\n",
      "\n",
      "Embeddingler hesaplandı ve kaydedildi: ibm-granite/granite-embedding-107m-multilingual (2/6)\n",
      "Model yükleniyor: intfloat/multilingual-e5-small\n",
      "Model yüklendi. intfloat/multilingual-e5-small\n",
      "Hali hazırda hesaplanmış gömme vektörleri sayısı: 10, bu kayıtlar atlanıyor.\n",
      "\n",
      "\n",
      "Embeddingler hesaplandı ve kaydedildi: intfloat/multilingual-e5-small (3/6)\n",
      "Model yükleniyor: sentence-transformers/paraphrase-multilingual-MiniLM-L12-v2\n",
      "Model yüklendi. sentence-transformers/paraphrase-multilingual-MiniLM-L12-v2\n",
      "Hali hazırda hesaplanmış gömme vektörleri sayısı: 10, bu kayıtlar atlanıyor.\n",
      "\n",
      "\n",
      "Embeddingler hesaplandı ve kaydedildi: sentence-transformers/paraphrase-multilingual-MiniLM-L12-v2 (4/6)\n",
      "Model yükleniyor: shibing624/text2vec-base-multilingual\n",
      "Model yüklendi. shibing624/text2vec-base-multilingual\n",
      "Hali hazırda hesaplanmış gömme vektörleri sayısı: 10, bu kayıtlar atlanıyor.\n",
      "\n",
      "\n",
      "Embeddingler hesaplandı ve kaydedildi: shibing624/text2vec-base-multilingual (5/6)\n",
      "Model yükleniyor: ytu-ce-cosmos/turkish-colbert\n",
      "Model yüklendi. ytu-ce-cosmos/turkish-colbert\n",
      "Hali hazırda hesaplanmış gömme vektörleri sayısı: 10, bu kayıtlar atlanıyor.\n",
      "\n",
      "\n",
      "Embeddingler hesaplandı ve kaydedildi: ytu-ce-cosmos/turkish-colbert (6/6)\n"
     ]
    }
   ],
   "source": [
    "# her model için\n",
    "for i, model_name in enumerate(model_names):\n",
    "        save_prefix = get_save_prefix(model_name)\n",
    "        model, tokenizer = load_model(model_name, device_type=device)\n",
    "        calculate_and_save_raw_embeddings_from_dataset(model, tokenizer, df, save_prefix, device)\n",
    "        print(f\"Embeddingler hesaplandı ve kaydedildi: {model_name} ({i+1}/{len(model_names)})\")"
   ]
  },
  {
   "cell_type": "code",
   "execution_count": 10,
   "metadata": {},
   "outputs": [
    {
     "name": "stdout",
     "output_type": "stream",
     "text": [
      "intfloat_multilingual_e5_base_embeddings.json dosyasından 10 gömme vektörü yüklendi.\n"
     ]
    },
    {
     "name": "stderr",
     "output_type": "stream",
     "text": [
      "C:\\Users\\kayra\\AppData\\Local\\Packages\\PythonSoftwareFoundation.Python.3.12_qbz5n2kfra8p0\\LocalCache\\local-packages\\Python312\\site-packages\\sklearn\\manifold\\_t_sne.py:1164: FutureWarning: 'n_iter' was renamed to 'max_iter' in version 1.5 and will be removed in 1.7.\n",
      "  warnings.warn(\n",
      "C:\\Users\\kayra\\AppData\\Local\\Packages\\PythonSoftwareFoundation.Python.3.12_qbz5n2kfra8p0\\LocalCache\\local-packages\\Python312\\site-packages\\joblib\\externals\\loky\\backend\\context.py:136: UserWarning: Could not find the number of physical cores for the following reason:\n",
      "[WinError 2] Sistem belirtilen dosyayı bulamıyor\n",
      "Returning the number of logical cores instead. You can silence this warning by setting LOKY_MAX_CPU_COUNT to the number of cores you want to use.\n",
      "  warnings.warn(\n",
      "  File \"C:\\Users\\kayra\\AppData\\Local\\Packages\\PythonSoftwareFoundation.Python.3.12_qbz5n2kfra8p0\\LocalCache\\local-packages\\Python312\\site-packages\\joblib\\externals\\loky\\backend\\context.py\", line 257, in _count_physical_cores\n",
      "    cpu_info = subprocess.run(\n",
      "               ^^^^^^^^^^^^^^^\n",
      "  File \"C:\\Program Files\\WindowsApps\\PythonSoftwareFoundation.Python.3.12_3.12.2544.0_x64__qbz5n2kfra8p0\\Lib\\subprocess.py\", line 550, in run\n",
      "    with Popen(*popenargs, **kwargs) as process:\n",
      "         ^^^^^^^^^^^^^^^^^^^^^^^^^^^\n",
      "  File \"C:\\Program Files\\WindowsApps\\PythonSoftwareFoundation.Python.3.12_3.12.2544.0_x64__qbz5n2kfra8p0\\Lib\\subprocess.py\", line 1028, in __init__\n",
      "    self._execute_child(args, executable, preexec_fn, close_fds,\n",
      "  File \"C:\\Program Files\\WindowsApps\\PythonSoftwareFoundation.Python.3.12_3.12.2544.0_x64__qbz5n2kfra8p0\\Lib\\subprocess.py\", line 1540, in _execute_child\n",
      "    hp, ht, pid, tid = _winapi.CreateProcess(executable, args,\n",
      "                       ^^^^^^^^^^^^^^^^^^^^^^^^^^^^^^^^^^^^^^^\n",
      "C:\\Users\\kayra\\AppData\\Local\\Packages\\PythonSoftwareFoundation.Python.3.12_qbz5n2kfra8p0\\LocalCache\\local-packages\\Python312\\site-packages\\sklearn\\manifold\\_t_sne.py:1164: FutureWarning: 'n_iter' was renamed to 'max_iter' in version 1.5 and will be removed in 1.7.\n",
      "  warnings.warn(\n"
     ]
    },
    {
     "name": "stdout",
     "output_type": "stream",
     "text": [
      "ibm_granite_granite_embedding_107m_multilingual_embeddings.json dosyasından 10 gömme vektörü yüklendi.\n"
     ]
    },
    {
     "name": "stderr",
     "output_type": "stream",
     "text": [
      "C:\\Users\\kayra\\AppData\\Local\\Packages\\PythonSoftwareFoundation.Python.3.12_qbz5n2kfra8p0\\LocalCache\\local-packages\\Python312\\site-packages\\sklearn\\manifold\\_t_sne.py:1164: FutureWarning: 'n_iter' was renamed to 'max_iter' in version 1.5 and will be removed in 1.7.\n",
      "  warnings.warn(\n",
      "C:\\Users\\kayra\\AppData\\Local\\Packages\\PythonSoftwareFoundation.Python.3.12_qbz5n2kfra8p0\\LocalCache\\local-packages\\Python312\\site-packages\\sklearn\\manifold\\_t_sne.py:1164: FutureWarning: 'n_iter' was renamed to 'max_iter' in version 1.5 and will be removed in 1.7.\n",
      "  warnings.warn(\n"
     ]
    },
    {
     "name": "stdout",
     "output_type": "stream",
     "text": [
      "intfloat_multilingual_e5_small_embeddings.json dosyasından 10 gömme vektörü yüklendi.\n"
     ]
    },
    {
     "name": "stderr",
     "output_type": "stream",
     "text": [
      "C:\\Users\\kayra\\AppData\\Local\\Packages\\PythonSoftwareFoundation.Python.3.12_qbz5n2kfra8p0\\LocalCache\\local-packages\\Python312\\site-packages\\sklearn\\manifold\\_t_sne.py:1164: FutureWarning: 'n_iter' was renamed to 'max_iter' in version 1.5 and will be removed in 1.7.\n",
      "  warnings.warn(\n",
      "C:\\Users\\kayra\\AppData\\Local\\Packages\\PythonSoftwareFoundation.Python.3.12_qbz5n2kfra8p0\\LocalCache\\local-packages\\Python312\\site-packages\\sklearn\\manifold\\_t_sne.py:1164: FutureWarning: 'n_iter' was renamed to 'max_iter' in version 1.5 and will be removed in 1.7.\n",
      "  warnings.warn(\n"
     ]
    },
    {
     "name": "stdout",
     "output_type": "stream",
     "text": [
      "sentence_transformers_paraphrase_multilingual_MiniLM_L12_v2_embeddings.json dosyasından 10 gömme vektörü yüklendi.\n"
     ]
    },
    {
     "name": "stderr",
     "output_type": "stream",
     "text": [
      "C:\\Users\\kayra\\AppData\\Local\\Packages\\PythonSoftwareFoundation.Python.3.12_qbz5n2kfra8p0\\LocalCache\\local-packages\\Python312\\site-packages\\sklearn\\manifold\\_t_sne.py:1164: FutureWarning: 'n_iter' was renamed to 'max_iter' in version 1.5 and will be removed in 1.7.\n",
      "  warnings.warn(\n",
      "C:\\Users\\kayra\\AppData\\Local\\Packages\\PythonSoftwareFoundation.Python.3.12_qbz5n2kfra8p0\\LocalCache\\local-packages\\Python312\\site-packages\\sklearn\\manifold\\_t_sne.py:1164: FutureWarning: 'n_iter' was renamed to 'max_iter' in version 1.5 and will be removed in 1.7.\n",
      "  warnings.warn(\n"
     ]
    },
    {
     "name": "stdout",
     "output_type": "stream",
     "text": [
      "shibing624_text2vec_base_multilingual_embeddings.json dosyasından 10 gömme vektörü yüklendi.\n"
     ]
    },
    {
     "name": "stderr",
     "output_type": "stream",
     "text": [
      "C:\\Users\\kayra\\AppData\\Local\\Packages\\PythonSoftwareFoundation.Python.3.12_qbz5n2kfra8p0\\LocalCache\\local-packages\\Python312\\site-packages\\sklearn\\manifold\\_t_sne.py:1164: FutureWarning: 'n_iter' was renamed to 'max_iter' in version 1.5 and will be removed in 1.7.\n",
      "  warnings.warn(\n",
      "C:\\Users\\kayra\\AppData\\Local\\Packages\\PythonSoftwareFoundation.Python.3.12_qbz5n2kfra8p0\\LocalCache\\local-packages\\Python312\\site-packages\\sklearn\\manifold\\_t_sne.py:1164: FutureWarning: 'n_iter' was renamed to 'max_iter' in version 1.5 and will be removed in 1.7.\n",
      "  warnings.warn(\n"
     ]
    },
    {
     "name": "stdout",
     "output_type": "stream",
     "text": [
      "ytu_ce_cosmos_turkish_colbert_embeddings.json dosyasından 10 gömme vektörü yüklendi.\n"
     ]
    },
    {
     "name": "stderr",
     "output_type": "stream",
     "text": [
      "C:\\Users\\kayra\\AppData\\Local\\Packages\\PythonSoftwareFoundation.Python.3.12_qbz5n2kfra8p0\\LocalCache\\local-packages\\Python312\\site-packages\\sklearn\\manifold\\_t_sne.py:1164: FutureWarning: 'n_iter' was renamed to 'max_iter' in version 1.5 and will be removed in 1.7.\n",
      "  warnings.warn(\n",
      "C:\\Users\\kayra\\AppData\\Local\\Packages\\PythonSoftwareFoundation.Python.3.12_qbz5n2kfra8p0\\LocalCache\\local-packages\\Python312\\site-packages\\sklearn\\manifold\\_t_sne.py:1164: FutureWarning: 'n_iter' was renamed to 'max_iter' in version 1.5 and will be removed in 1.7.\n",
      "  warnings.warn(\n"
     ]
    }
   ],
   "source": [
    "for i, model_name in enumerate(model_names):\n",
    "    save_prefix = get_save_prefix(model_name)\n",
    "    raw_embeddings = read_embedding_from_file(save_prefix)\n",
    "    tsne_res = tsne_sonuc_olustur(raw_embeddings, save_prefix)"
   ]
  },
  {
   "cell_type": "code",
   "execution_count": null,
   "metadata": {},
   "outputs": [],
   "source": []
  }
 ],
 "metadata": {
  "kernelspec": {
   "display_name": "Python 3",
   "language": "python",
   "name": "python3"
  },
  "language_info": {
   "codemirror_mode": {
    "name": "ipython",
    "version": 3
   },
   "file_extension": ".py",
   "mimetype": "text/x-python",
   "name": "python",
   "nbconvert_exporter": "python",
   "pygments_lexer": "ipython3",
   "version": "3.12.9"
  }
 },
 "nbformat": 4,
 "nbformat_minor": 2
}
